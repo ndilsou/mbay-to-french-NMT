{
 "cells": [
  {
   "cell_type": "code",
   "execution_count": 28,
   "metadata": {},
   "outputs": [
    {
     "name": "stdout",
     "output_type": "stream",
     "text": [
      "The autoreload extension is already loaded. To reload it, use:\n",
      "  %reload_ext autoreload\n"
     ]
    }
   ],
   "source": [
    "%load_ext autoreload\n",
    "%autoreload 2"
   ]
  },
  {
   "cell_type": "code",
   "execution_count": 29,
   "metadata": {},
   "outputs": [
    {
     "data": {
      "text/plain": [
       "True"
      ]
     },
     "execution_count": 29,
     "metadata": {},
     "output_type": "execute_result"
    }
   ],
   "source": [
    "from typing import Generator, Any\n",
    "import pandas as pd\n",
    "import json\n",
    "from pymongo.mongo_client import MongoClient\n",
    "from pymongo.server_api import ServerApi\n",
    "from dotenv import load_dotenv\n",
    "import os\n",
    "from rich import print as rprint\n",
    "from mbay_nmt.utils import domain as d\n",
    "from mbay_nmt.utils.models import new_object_id\n",
    "from datasets import load_dataset, Dataset, DatasetDict\n",
    "from rich import print as rprint\n",
    "\n",
    "load_dotenv()"
   ]
  },
  {
   "cell_type": "code",
   "execution_count": 3,
   "metadata": {},
   "outputs": [],
   "source": [
    "# from huggingface_hub import notebook_login\n",
    "\n",
    "# notebook_login()"
   ]
  },
  {
   "attachments": {},
   "cell_type": "markdown",
   "metadata": {},
   "source": [
    "## Huggingface datasets creation\n"
   ]
  },
  {
   "cell_type": "code",
   "execution_count": 4,
   "metadata": {},
   "outputs": [],
   "source": [
    "from typing import Literal, TypedDict\n",
    "\n",
    "\n",
    "class Record(TypedDict):\n",
    "    id: str\n",
    "    entry_id: str\n",
    "    type: Literal[\"entry\", \"example\", \"expression\"]\n",
    "    mbay: str\n",
    "    french: str\n",
    "    english: str"
   ]
  },
  {
   "cell_type": "code",
   "execution_count": 5,
   "metadata": {},
   "outputs": [],
   "source": [
    "CSV_DATASET_PATH = \"../../datasets/mbay-translations-flattened.csv.gzip\"\n",
    "SPLIT_DATASET_PATH = \"../../datasets/mbay-translations/\"\n",
    "TOKENIZED_DATASET_PATH = \"../../datasets/mbay-translations-tokenized/\""
   ]
  },
  {
   "cell_type": "code",
   "execution_count": 27,
   "metadata": {},
   "outputs": [],
   "source": [
    "# df = pd.DataFrame(records)\n",
    "# df.to_csv(CSV_REVIEW_DATASET_PATH, index=False)"
   ]
  },
  {
   "attachments": {},
   "cell_type": "markdown",
   "metadata": {},
   "source": [
    "We are currently at row 72\n"
   ]
  },
  {
   "cell_type": "code",
   "execution_count": 6,
   "metadata": {},
   "outputs": [],
   "source": [
    "import gspread\n",
    "from oauth2client.service_account import ServiceAccountCredentials\n",
    "\n",
    "# Use the JSON key file you downloaded when you created your Service Account\n",
    "json_key_file = \"/Users/nasoungadoy/.googlecloud/fluid-mind-303321-602c5b57c4e7.json\"\n",
    "\n",
    "# Define the scope\n",
    "scope = [\n",
    "    \"https://spreadsheets.google.com/feeds\",\n",
    "    \"https://www.googleapis.com/auth/drive\",\n",
    "]\n",
    "\n",
    "# Load the credentials and create a client to interact with the Google Drive API\n",
    "credentials = ServiceAccountCredentials.from_json_keyfile_name(json_key_file, scope)\n",
    "google_sheets = gspread.authorize(credentials)"
   ]
  },
  {
   "cell_type": "code",
   "execution_count": 7,
   "metadata": {},
   "outputs": [
    {
     "data": {
      "text/plain": [
       "{'id': 1,\n",
       " 'entry_id': 2,\n",
       " 'type': 3,\n",
       " 'mbay': 4,\n",
       " 'french': 5,\n",
       " 'english': 6,\n",
       " 'flagged': 7,\n",
       " 'comment': 8}"
      ]
     },
     "execution_count": 7,
     "metadata": {},
     "output_type": "execute_result"
    }
   ],
   "source": [
    "\n",
    "\n",
    "sheet = google_sheets.open_by_url(\n",
    "    \"https://docs.google.com/spreadsheets/d/1KbpQS0RdcLhUOJNFNdXlnTDZBKEU2S8Q7DnJhPYrr2M\"\n",
    ").sheet1\n",
    "columns = sheet.row_values(1)\n",
    "columns = {columns[i]: i + 1 for i in range(len(columns))}\n",
    "columns"
   ]
  },
  {
   "cell_type": "code",
   "execution_count": 8,
   "metadata": {},
   "outputs": [],
   "source": [
    "records = sheet.get_all_records()"
   ]
  },
  {
   "cell_type": "code",
   "execution_count": 9,
   "metadata": {},
   "outputs": [],
   "source": [
    "df = pd.DataFrame(records)\n",
    "df = df[df[\"flagged\"] != \"TRUE\"].drop(columns=[\"flagged\", \"comment\"])"
   ]
  },
  {
   "cell_type": "code",
   "execution_count": 53,
   "metadata": {},
   "outputs": [
    {
     "data": {
      "text/html": [
       "<div>\n",
       "<style scoped>\n",
       "    .dataframe tbody tr th:only-of-type {\n",
       "        vertical-align: middle;\n",
       "    }\n",
       "\n",
       "    .dataframe tbody tr th {\n",
       "        vertical-align: top;\n",
       "    }\n",
       "\n",
       "    .dataframe thead th {\n",
       "        text-align: right;\n",
       "    }\n",
       "</style>\n",
       "<table border=\"1\" class=\"dataframe\">\n",
       "  <thead>\n",
       "    <tr style=\"text-align: right;\">\n",
       "      <th></th>\n",
       "      <th>id</th>\n",
       "      <th>entry_id</th>\n",
       "      <th>type</th>\n",
       "      <th>mbay</th>\n",
       "      <th>french</th>\n",
       "      <th>english</th>\n",
       "    </tr>\n",
       "  </thead>\n",
       "  <tbody>\n",
       "    <tr>\n",
       "      <th>0</th>\n",
       "      <td>64eca312f6197fd20d762cf5</td>\n",
       "      <td></td>\n",
       "      <td>entry</td>\n",
       "      <td>àlmbétɨ̀, àlmétɨ̀</td>\n",
       "      <td>allumette.</td>\n",
       "      <td>match.</td>\n",
       "    </tr>\n",
       "    <tr>\n",
       "      <th>1</th>\n",
       "      <td>64eca312f6197fd20d76096f</td>\n",
       "      <td>64eca312f6197fd20d762cf5</td>\n",
       "      <td>example</td>\n",
       "      <td>gà àlmbétɨ̀</td>\n",
       "      <td>allumer une allumette</td>\n",
       "      <td>light a match</td>\n",
       "    </tr>\n",
       "    <tr>\n",
       "      <th>2</th>\n",
       "      <td>64eca312f6197fd20d760970</td>\n",
       "      <td>64eca312f6197fd20d762cf5</td>\n",
       "      <td>example</td>\n",
       "      <td>ī-gá àlmbétɨ̀ ādɨ̄-m̄.</td>\n",
       "      <td>Allumez une allumette pour moi.</td>\n",
       "      <td>Light a match for me.</td>\n",
       "    </tr>\n",
       "    <tr>\n",
       "      <th>3</th>\n",
       "      <td>64eca312f6197fd20d760971</td>\n",
       "      <td>64eca312f6197fd20d762cf5</td>\n",
       "      <td>example</td>\n",
       "      <td>kùm-àlmbétɨ̀</td>\n",
       "      <td>allumette non allumée</td>\n",
       "      <td>unlit match stick</td>\n",
       "    </tr>\n",
       "    <tr>\n",
       "      <th>4</th>\n",
       "      <td>64eca312f6197fd20d760972</td>\n",
       "      <td>64eca312f6197fd20d762cf5</td>\n",
       "      <td>example</td>\n",
       "      <td>Màn̄ à ɔ̀dɨ̀ kùm-àlmbétɨ̀ ànḛ̄ à ùnjɨ̄ àĺ.</td>\n",
       "      <td>Si l'eau touche une allumette, elle ne s'allum...</td>\n",
       "      <td>If water touches a matchstick it won't light.</td>\n",
       "    </tr>\n",
       "    <tr>\n",
       "      <th>...</th>\n",
       "      <td>...</td>\n",
       "      <td>...</td>\n",
       "      <td>...</td>\n",
       "      <td>...</td>\n",
       "      <td>...</td>\n",
       "      <td>...</td>\n",
       "    </tr>\n",
       "    <tr>\n",
       "      <th>10724</th>\n",
       "      <td>64fc50f7286b18ef7de0f25a</td>\n",
       "      <td>64fc50f7286b18ef7de0f259</td>\n",
       "      <td>example</td>\n",
       "      <td>m̄-hɔ́-ī àbàsúl kɨ̀tɔ̄-kàdɨ̄ ī-sá jī-í kɨ́rā àĺ.</td>\n",
       "      <td>Je t'ai battu à plate couture, car tu n'as pas...</td>\n",
       "      <td>I skunked you, since you didn't take a single ...</td>\n",
       "    </tr>\n",
       "    <tr>\n",
       "      <th>10725</th>\n",
       "      <td>64fc50f7286b18ef7de0f25b</td>\n",
       "      <td></td>\n",
       "      <td>entry</td>\n",
       "      <td>à</td>\n",
       "      <td>ensuite; et donc; et ensuite</td>\n",
       "      <td>then; and so; and then</td>\n",
       "    </tr>\n",
       "    <tr>\n",
       "      <th>10726</th>\n",
       "      <td>64fc50f7286b18ef7de0f25c</td>\n",
       "      <td>64fc50f7286b18ef7de0f25b</td>\n",
       "      <td>example</td>\n",
       "      <td>Dèē-kɨ́-dḛ̀ḛ́ nā̰a̰ tá̰a̰ nèl̄ tà-á péléng à n...</td>\n",
       "      <td>La femme a goûté la sauce et elle l'a tellemen...</td>\n",
       "      <td>The woman tasted the sauce and she liked it so...</td>\n",
       "    </tr>\n",
       "    <tr>\n",
       "      <th>10727</th>\n",
       "      <td>64fc50f7286b18ef7de0f25d</td>\n",
       "      <td></td>\n",
       "      <td>entry</td>\n",
       "      <td>àbɨ̀lày</td>\n",
       "      <td>fouet fait de cuir {traditionnellement en peau...</td>\n",
       "      <td>whip made of leather {traditionally hippopotam...</td>\n",
       "    </tr>\n",
       "    <tr>\n",
       "      <th>10728</th>\n",
       "      <td>64fc50f7286b18ef7de0f25e</td>\n",
       "      <td>64fc50f7286b18ef7de0f25d</td>\n",
       "      <td>example</td>\n",
       "      <td>Dèē-gɨ̄ ndà-n̄ ngōn ndíl-í kɨ̀ àbɨ̀lày.</td>\n",
       "      <td>Les gens ont frappé le garçon au lieu du jugem...</td>\n",
       "      <td>The people hit the boy at the place of judgeme...</td>\n",
       "    </tr>\n",
       "  </tbody>\n",
       "</table>\n",
       "<p>10726 rows × 6 columns</p>\n",
       "</div>"
      ],
      "text/plain": [
       "                             id                  entry_id     type  \\\n",
       "0      64eca312f6197fd20d762cf5                              entry   \n",
       "1      64eca312f6197fd20d76096f  64eca312f6197fd20d762cf5  example   \n",
       "2      64eca312f6197fd20d760970  64eca312f6197fd20d762cf5  example   \n",
       "3      64eca312f6197fd20d760971  64eca312f6197fd20d762cf5  example   \n",
       "4      64eca312f6197fd20d760972  64eca312f6197fd20d762cf5  example   \n",
       "...                         ...                       ...      ...   \n",
       "10724  64fc50f7286b18ef7de0f25a  64fc50f7286b18ef7de0f259  example   \n",
       "10725  64fc50f7286b18ef7de0f25b                              entry   \n",
       "10726  64fc50f7286b18ef7de0f25c  64fc50f7286b18ef7de0f25b  example   \n",
       "10727  64fc50f7286b18ef7de0f25d                              entry   \n",
       "10728  64fc50f7286b18ef7de0f25e  64fc50f7286b18ef7de0f25d  example   \n",
       "\n",
       "                                                    mbay  \\\n",
       "0                                      àlmbétɨ̀, àlmétɨ̀   \n",
       "1                                            gà àlmbétɨ̀   \n",
       "2                                 ī-gá àlmbétɨ̀ ādɨ̄-m̄.   \n",
       "3                                           kùm-àlmbétɨ̀   \n",
       "4             Màn̄ à ɔ̀dɨ̀ kùm-àlmbétɨ̀ ànḛ̄ à ùnjɨ̄ àĺ.   \n",
       "...                                                  ...   \n",
       "10724   m̄-hɔ́-ī àbàsúl kɨ̀tɔ̄-kàdɨ̄ ī-sá jī-í kɨ́rā àĺ.   \n",
       "10725                                                  à   \n",
       "10726  Dèē-kɨ́-dḛ̀ḛ́ nā̰a̰ tá̰a̰ nèl̄ tà-á péléng à n...   \n",
       "10727                                            àbɨ̀lày   \n",
       "10728            Dèē-gɨ̄ ndà-n̄ ngōn ndíl-í kɨ̀ àbɨ̀lày.   \n",
       "\n",
       "                                                  french  \\\n",
       "0                                             allumette.   \n",
       "1                                  allumer une allumette   \n",
       "2                        Allumez une allumette pour moi.   \n",
       "3                                  allumette non allumée   \n",
       "4      Si l'eau touche une allumette, elle ne s'allum...   \n",
       "...                                                  ...   \n",
       "10724  Je t'ai battu à plate couture, car tu n'as pas...   \n",
       "10725                       ensuite; et donc; et ensuite   \n",
       "10726  La femme a goûté la sauce et elle l'a tellemen...   \n",
       "10727  fouet fait de cuir {traditionnellement en peau...   \n",
       "10728  Les gens ont frappé le garçon au lieu du jugem...   \n",
       "\n",
       "                                                 english  \n",
       "0                                                 match.  \n",
       "1                                          light a match  \n",
       "2                                  Light a match for me.  \n",
       "3                                      unlit match stick  \n",
       "4          If water touches a matchstick it won't light.  \n",
       "...                                                  ...  \n",
       "10724  I skunked you, since you didn't take a single ...  \n",
       "10725                             then; and so; and then  \n",
       "10726  The woman tasted the sauce and she liked it so...  \n",
       "10727  whip made of leather {traditionally hippopotam...  \n",
       "10728  The people hit the boy at the place of judgeme...  \n",
       "\n",
       "[10726 rows x 6 columns]"
      ]
     },
     "execution_count": 53,
     "metadata": {},
     "output_type": "execute_result"
    }
   ],
   "source": [
    "df"
   ]
  },
  {
   "cell_type": "code",
   "execution_count": 57,
   "metadata": {},
   "outputs": [
    {
     "data": {
      "text/plain": [
       "(10075, 6)"
      ]
     },
     "execution_count": 57,
     "metadata": {},
     "output_type": "execute_result"
    }
   ],
   "source": [
    "df.drop_duplicates(subset=[\"english\"]).shape"
   ]
  },
  {
   "cell_type": "code",
   "execution_count": 21,
   "metadata": {},
   "outputs": [],
   "source": [
    "df.to_csv(CSV_DATASET_PATH, index=False, compression=\"gzip\")"
   ]
  },
  {
   "cell_type": "code",
   "execution_count": 24,
   "metadata": {},
   "outputs": [
    {
     "data": {
      "text/html": [
       "<div>\n",
       "<style scoped>\n",
       "    .dataframe tbody tr th:only-of-type {\n",
       "        vertical-align: middle;\n",
       "    }\n",
       "\n",
       "    .dataframe tbody tr th {\n",
       "        vertical-align: top;\n",
       "    }\n",
       "\n",
       "    .dataframe thead th {\n",
       "        text-align: right;\n",
       "    }\n",
       "</style>\n",
       "<table border=\"1\" class=\"dataframe\">\n",
       "  <thead>\n",
       "    <tr style=\"text-align: right;\">\n",
       "      <th></th>\n",
       "      <th>id</th>\n",
       "      <th>entry_id</th>\n",
       "      <th>type</th>\n",
       "      <th>mbay</th>\n",
       "      <th>french</th>\n",
       "      <th>english</th>\n",
       "    </tr>\n",
       "  </thead>\n",
       "  <tbody>\n",
       "    <tr>\n",
       "      <th>0</th>\n",
       "      <td>64eca312f6197fd20d762cf5</td>\n",
       "      <td>NaN</td>\n",
       "      <td>entry</td>\n",
       "      <td>àlmbétɨ̀, àlmétɨ̀</td>\n",
       "      <td>allumette.</td>\n",
       "      <td>match.</td>\n",
       "    </tr>\n",
       "    <tr>\n",
       "      <th>1</th>\n",
       "      <td>64eca312f6197fd20d76096f</td>\n",
       "      <td>64eca312f6197fd20d762cf5</td>\n",
       "      <td>example</td>\n",
       "      <td>gà àlmbétɨ̀</td>\n",
       "      <td>allumer une allumette</td>\n",
       "      <td>light a match</td>\n",
       "    </tr>\n",
       "    <tr>\n",
       "      <th>2</th>\n",
       "      <td>64eca312f6197fd20d760970</td>\n",
       "      <td>64eca312f6197fd20d762cf5</td>\n",
       "      <td>example</td>\n",
       "      <td>ī-gá àlmbétɨ̀ ādɨ̄-m̄.</td>\n",
       "      <td>Allumez une allumette pour moi.</td>\n",
       "      <td>Light a match for me.</td>\n",
       "    </tr>\n",
       "    <tr>\n",
       "      <th>3</th>\n",
       "      <td>64eca312f6197fd20d760971</td>\n",
       "      <td>64eca312f6197fd20d762cf5</td>\n",
       "      <td>example</td>\n",
       "      <td>kùm-àlmbétɨ̀</td>\n",
       "      <td>allumette non allumée</td>\n",
       "      <td>unlit match stick</td>\n",
       "    </tr>\n",
       "    <tr>\n",
       "      <th>4</th>\n",
       "      <td>64eca312f6197fd20d760972</td>\n",
       "      <td>64eca312f6197fd20d762cf5</td>\n",
       "      <td>example</td>\n",
       "      <td>Màn̄ à ɔ̀dɨ̀ kùm-àlmbétɨ̀ ànḛ̄ à ùnjɨ̄ àĺ.</td>\n",
       "      <td>Si l'eau touche une allumette, elle ne s'allum...</td>\n",
       "      <td>If water touches a matchstick it won't light.</td>\n",
       "    </tr>\n",
       "    <tr>\n",
       "      <th>...</th>\n",
       "      <td>...</td>\n",
       "      <td>...</td>\n",
       "      <td>...</td>\n",
       "      <td>...</td>\n",
       "      <td>...</td>\n",
       "      <td>...</td>\n",
       "    </tr>\n",
       "    <tr>\n",
       "      <th>10721</th>\n",
       "      <td>64fc50f7286b18ef7de0f25a</td>\n",
       "      <td>64fc50f7286b18ef7de0f259</td>\n",
       "      <td>example</td>\n",
       "      <td>m̄-hɔ́-ī àbàsúl kɨ̀tɔ̄-kàdɨ̄ ī-sá jī-í kɨ́rā àĺ.</td>\n",
       "      <td>Je t'ai battu à plate couture, car tu n'as pas...</td>\n",
       "      <td>I skunked you, since you didn't take a single ...</td>\n",
       "    </tr>\n",
       "    <tr>\n",
       "      <th>10722</th>\n",
       "      <td>64fc50f7286b18ef7de0f25b</td>\n",
       "      <td>NaN</td>\n",
       "      <td>entry</td>\n",
       "      <td>à</td>\n",
       "      <td>ensuite; et donc; et ensuite</td>\n",
       "      <td>then; and so; and then</td>\n",
       "    </tr>\n",
       "    <tr>\n",
       "      <th>10723</th>\n",
       "      <td>64fc50f7286b18ef7de0f25c</td>\n",
       "      <td>64fc50f7286b18ef7de0f25b</td>\n",
       "      <td>example</td>\n",
       "      <td>Dèē-kɨ́-dḛ̀ḛ́ nā̰a̰ tá̰a̰ nèl̄ tà-á péléng à n...</td>\n",
       "      <td>La femme a goûté la sauce et elle l'a tellemen...</td>\n",
       "      <td>The woman tasted the sauce and she liked it so...</td>\n",
       "    </tr>\n",
       "    <tr>\n",
       "      <th>10724</th>\n",
       "      <td>64fc50f7286b18ef7de0f25d</td>\n",
       "      <td>NaN</td>\n",
       "      <td>entry</td>\n",
       "      <td>àbɨ̀lày</td>\n",
       "      <td>fouet fait de cuir {traditionnellement en peau...</td>\n",
       "      <td>whip made of leather {traditionally hippopotam...</td>\n",
       "    </tr>\n",
       "    <tr>\n",
       "      <th>10725</th>\n",
       "      <td>64fc50f7286b18ef7de0f25e</td>\n",
       "      <td>64fc50f7286b18ef7de0f25d</td>\n",
       "      <td>example</td>\n",
       "      <td>Dèē-gɨ̄ ndà-n̄ ngōn ndíl-í kɨ̀ àbɨ̀lày.</td>\n",
       "      <td>Les gens ont frappé le garçon au lieu du jugem...</td>\n",
       "      <td>The people hit the boy at the place of judgeme...</td>\n",
       "    </tr>\n",
       "  </tbody>\n",
       "</table>\n",
       "<p>10726 rows × 6 columns</p>\n",
       "</div>"
      ],
      "text/plain": [
       "                             id                  entry_id     type  \\\n",
       "0      64eca312f6197fd20d762cf5                       NaN    entry   \n",
       "1      64eca312f6197fd20d76096f  64eca312f6197fd20d762cf5  example   \n",
       "2      64eca312f6197fd20d760970  64eca312f6197fd20d762cf5  example   \n",
       "3      64eca312f6197fd20d760971  64eca312f6197fd20d762cf5  example   \n",
       "4      64eca312f6197fd20d760972  64eca312f6197fd20d762cf5  example   \n",
       "...                         ...                       ...      ...   \n",
       "10721  64fc50f7286b18ef7de0f25a  64fc50f7286b18ef7de0f259  example   \n",
       "10722  64fc50f7286b18ef7de0f25b                       NaN    entry   \n",
       "10723  64fc50f7286b18ef7de0f25c  64fc50f7286b18ef7de0f25b  example   \n",
       "10724  64fc50f7286b18ef7de0f25d                       NaN    entry   \n",
       "10725  64fc50f7286b18ef7de0f25e  64fc50f7286b18ef7de0f25d  example   \n",
       "\n",
       "                                                    mbay  \\\n",
       "0                                      àlmbétɨ̀, àlmétɨ̀   \n",
       "1                                            gà àlmbétɨ̀   \n",
       "2                                 ī-gá àlmbétɨ̀ ādɨ̄-m̄.   \n",
       "3                                           kùm-àlmbétɨ̀   \n",
       "4             Màn̄ à ɔ̀dɨ̀ kùm-àlmbétɨ̀ ànḛ̄ à ùnjɨ̄ àĺ.   \n",
       "...                                                  ...   \n",
       "10721   m̄-hɔ́-ī àbàsúl kɨ̀tɔ̄-kàdɨ̄ ī-sá jī-í kɨ́rā àĺ.   \n",
       "10722                                                  à   \n",
       "10723  Dèē-kɨ́-dḛ̀ḛ́ nā̰a̰ tá̰a̰ nèl̄ tà-á péléng à n...   \n",
       "10724                                            àbɨ̀lày   \n",
       "10725            Dèē-gɨ̄ ndà-n̄ ngōn ndíl-í kɨ̀ àbɨ̀lày.   \n",
       "\n",
       "                                                  french  \\\n",
       "0                                             allumette.   \n",
       "1                                  allumer une allumette   \n",
       "2                        Allumez une allumette pour moi.   \n",
       "3                                  allumette non allumée   \n",
       "4      Si l'eau touche une allumette, elle ne s'allum...   \n",
       "...                                                  ...   \n",
       "10721  Je t'ai battu à plate couture, car tu n'as pas...   \n",
       "10722                       ensuite; et donc; et ensuite   \n",
       "10723  La femme a goûté la sauce et elle l'a tellemen...   \n",
       "10724  fouet fait de cuir {traditionnellement en peau...   \n",
       "10725  Les gens ont frappé le garçon au lieu du jugem...   \n",
       "\n",
       "                                                 english  \n",
       "0                                                 match.  \n",
       "1                                          light a match  \n",
       "2                                  Light a match for me.  \n",
       "3                                      unlit match stick  \n",
       "4          If water touches a matchstick it won't light.  \n",
       "...                                                  ...  \n",
       "10721  I skunked you, since you didn't take a single ...  \n",
       "10722                             then; and so; and then  \n",
       "10723  The woman tasted the sauce and she liked it so...  \n",
       "10724  whip made of leather {traditionally hippopotam...  \n",
       "10725  The people hit the boy at the place of judgeme...  \n",
       "\n",
       "[10726 rows x 6 columns]"
      ]
     },
     "execution_count": 24,
     "metadata": {},
     "output_type": "execute_result"
    }
   ],
   "source": [
    "pd.read_csv(CSV_DATASET_PATH, compression=\"gzip\")"
   ]
  },
  {
   "cell_type": "code",
   "execution_count": 38,
   "metadata": {},
   "outputs": [
    {
     "data": {
      "text/plain": [
       "Dataset({\n",
       "    features: ['id', 'entry_id', 'type', 'mbay', 'french', 'english'],\n",
       "    num_rows: 10726\n",
       "})"
      ]
     },
     "execution_count": 38,
     "metadata": {},
     "output_type": "execute_result"
    }
   ],
   "source": [
    "dst = Dataset.from_pandas(df)\n",
    "dst = dst.remove_columns([\"__index_level_0__\"])\n",
    "dst"
   ]
  },
  {
   "cell_type": "code",
   "execution_count": 33,
   "metadata": {},
   "outputs": [],
   "source": [
    "# dst = Dataset.from_csv(CSV_DATASET_PATH)\n",
    "# dst"
   ]
  },
  {
   "cell_type": "code",
   "execution_count": 39,
   "metadata": {},
   "outputs": [
    {
     "data": {
      "text/plain": [
       "{'id': '64eca312f6197fd20d76098e',\n",
       " 'entry_id': '64eca312f6197fd20d762d04',\n",
       " 'type': 'example',\n",
       " 'mbay': 'ī-ɗāa àngérì nà̰ wétɨ́ ī-sō hólēe tɨ́ nò.',\n",
       " 'french': 'Faites attention de ne pas tomber dans le trou.',\n",
       " 'english': 'Be careful lest you fall into the hole.'}"
      ]
     },
     "execution_count": 39,
     "metadata": {},
     "output_type": "execute_result"
    }
   ],
   "source": [
    "dst[10]"
   ]
  },
  {
   "cell_type": "code",
   "execution_count": 43,
   "metadata": {},
   "outputs": [
    {
     "data": {
      "text/plain": [
       "DatasetDict({\n",
       "    train: Dataset({\n",
       "        features: ['id', 'entry_id', 'type', 'mbay', 'french', 'english'],\n",
       "        num_rows: 8580\n",
       "    })\n",
       "    test: Dataset({\n",
       "        features: ['id', 'entry_id', 'type', 'mbay', 'french', 'english'],\n",
       "        num_rows: 1073\n",
       "    })\n",
       "    validation: Dataset({\n",
       "        features: ['id', 'entry_id', 'type', 'mbay', 'french', 'english'],\n",
       "        num_rows: 1073\n",
       "    })\n",
       "})"
      ]
     },
     "execution_count": 43,
     "metadata": {},
     "output_type": "execute_result"
    }
   ],
   "source": [
    "train_test = dst.train_test_split(0.2)\n",
    "test_valid = train_test[\"test\"].train_test_split(0.5)\n",
    "\n",
    "train_test_valid_dst = DatasetDict(\n",
    "    {\n",
    "        \"train\": train_test[\"train\"],\n",
    "        \"test\": test_valid[\"test\"],\n",
    "        \"validation\": test_valid[\"train\"],\n",
    "    }\n",
    ")\n",
    "train_test_valid_dst"
   ]
  },
  {
   "cell_type": "code",
   "execution_count": 44,
   "metadata": {},
   "outputs": [
    {
     "data": {
      "text/plain": [
       "{'id': '64fc50f7286b18ef7de0bfb5',\n",
       " 'entry_id': '',\n",
       " 'type': 'entry',\n",
       " 'mbay': 'ɓà-kùm-dàm-á',\n",
       " 'french': 'personne aux grands yeux',\n",
       " 'english': 'person with big eyes'}"
      ]
     },
     "execution_count": 44,
     "metadata": {},
     "output_type": "execute_result"
    }
   ],
   "source": [
    "train_test_valid_dst[\"test\"][2]"
   ]
  },
  {
   "cell_type": "code",
   "execution_count": 45,
   "metadata": {},
   "outputs": [
    {
     "data": {
      "application/vnd.jupyter.widget-view+json": {
       "model_id": "50fd1175f8f14b559d215161dc5a280d",
       "version_major": 2,
       "version_minor": 0
      },
      "text/plain": [
       "Saving the dataset (0/1 shards):   0%|          | 0/8580 [00:00<?, ? examples/s]"
      ]
     },
     "metadata": {},
     "output_type": "display_data"
    },
    {
     "data": {
      "application/vnd.jupyter.widget-view+json": {
       "model_id": "e6b1067e29df43578292bedc554a3383",
       "version_major": 2,
       "version_minor": 0
      },
      "text/plain": [
       "Saving the dataset (0/1 shards):   0%|          | 0/1073 [00:00<?, ? examples/s]"
      ]
     },
     "metadata": {},
     "output_type": "display_data"
    },
    {
     "data": {
      "application/vnd.jupyter.widget-view+json": {
       "model_id": "2156a22cdfdc4d4aa86ff5089096a981",
       "version_major": 2,
       "version_minor": 0
      },
      "text/plain": [
       "Saving the dataset (0/1 shards):   0%|          | 0/1073 [00:00<?, ? examples/s]"
      ]
     },
     "metadata": {},
     "output_type": "display_data"
    }
   ],
   "source": [
    "train_test_valid_dst.save_to_disk(SPLIT_DATASET_PATH)"
   ]
  },
  {
   "cell_type": "code",
   "execution_count": 10,
   "metadata": {},
   "outputs": [],
   "source": [
    "# T5Tokenizer.__call__?"
   ]
  },
  {
   "cell_type": "code",
   "execution_count": 46,
   "metadata": {},
   "outputs": [
    {
     "name": "stderr",
     "output_type": "stream",
     "text": [
      "/Users/nasoungadoy/Code/mbay-translator/py/.venv/lib/python3.11/site-packages/bitsandbytes/cextension.py:34: UserWarning: The installed version of bitsandbytes was compiled without GPU support. 8-bit optimizers, 8-bit multiplication, and GPU quantization are unavailable.\n",
      "  warn(\"The installed version of bitsandbytes was compiled without GPU support. \"\n"
     ]
    },
    {
     "name": "stdout",
     "output_type": "stream",
     "text": [
      "'NoneType' object has no attribute 'cadam32bit_grad_fp32'\n"
     ]
    }
   ],
   "source": [
    "from mbay_nmt.fine_tune_t5.utils import preprocess_records"
   ]
  },
  {
   "cell_type": "code",
   "execution_count": 47,
   "metadata": {},
   "outputs": [
    {
     "data": {
      "application/vnd.jupyter.widget-view+json": {
       "model_id": "a5b5636c81f34df0aced309c35c82a64",
       "version_major": 2,
       "version_minor": 0
      },
      "text/plain": [
       "Downloading (…)okenizer_config.json:   0%|          | 0.00/376 [00:00<?, ?B/s]"
      ]
     },
     "metadata": {},
     "output_type": "display_data"
    },
    {
     "data": {
      "application/vnd.jupyter.widget-view+json": {
       "model_id": "84169dc60b0b4cb1971eed50ec409f8b",
       "version_major": 2,
       "version_minor": 0
      },
      "text/plain": [
       "Downloading (…)lve/main/config.json:   0%|          | 0.00/642 [00:00<?, ?B/s]"
      ]
     },
     "metadata": {},
     "output_type": "display_data"
    },
    {
     "data": {
      "application/vnd.jupyter.widget-view+json": {
       "model_id": "9edcfa149a5f4e1d9ec361a48c6231ea",
       "version_major": 2,
       "version_minor": 0
      },
      "text/plain": [
       "Downloading (…)ve/main/spiece.model:   0%|          | 0.00/4.31M [00:00<?, ?B/s]"
      ]
     },
     "metadata": {},
     "output_type": "display_data"
    },
    {
     "data": {
      "application/vnd.jupyter.widget-view+json": {
       "model_id": "2a00ccce9e6148ee9289633598e5f8d7",
       "version_major": 2,
       "version_minor": 0
      },
      "text/plain": [
       "Downloading (…)cial_tokens_map.json:   0%|          | 0.00/65.0 [00:00<?, ?B/s]"
      ]
     },
     "metadata": {},
     "output_type": "display_data"
    },
    {
     "name": "stderr",
     "output_type": "stream",
     "text": [
      "You are using the default legacy behaviour of the <class 'transformers.models.t5.tokenization_t5.T5Tokenizer'>. This is expected, and simply means that the `legacy` (previous) behavior will be used so nothing changes for you. If you want to use the new behaviour, set `legacy=False`. This should only be set if you understand what it means, and thouroughly read the reason why this was added as explained in https://github.com/huggingface/transformers/pull/24565\n",
      "/Users/nasoungadoy/Code/mbay-translator/py/.venv/lib/python3.11/site-packages/transformers/convert_slow_tokenizer.py:473: UserWarning: The sentencepiece tokenizer that you are converting to a fast tokenizer uses the byte fallback option which is not implemented in the fast tokenizers. In practice this means that the fast version of the tokenizer can produce unknown tokens whereas the sentencepiece version would have converted these unknown tokens into a sequence of byte tokens matching the original piece of text.\n",
      "  warnings.warn(\n"
     ]
    }
   ],
   "source": [
    "from transformers import AutoTokenizer\n",
    "\n",
    "t5_tokenizer = AutoTokenizer.from_pretrained(\"google/mt5-large\")"
   ]
  },
  {
   "cell_type": "code",
   "execution_count": 48,
   "metadata": {},
   "outputs": [
    {
     "data": {
      "text/plain": [
       "['id', 'entry_id', 'type', 'mbay', 'french', 'english']"
      ]
     },
     "execution_count": 48,
     "metadata": {},
     "output_type": "execute_result"
    }
   ],
   "source": [
    "train_test_valid_dst.column_names[\"train\"]"
   ]
  },
  {
   "cell_type": "code",
   "execution_count": 24,
   "metadata": {},
   "outputs": [
    {
     "data": {
      "application/vnd.jupyter.widget-view+json": {
       "model_id": "51b8d12e6bef4f8c883dab118c8cfb64",
       "version_major": 2,
       "version_minor": 0
      },
      "text/plain": [
       "Downloading (…)okenizer_config.json:   0%|          | 0.00/376 [00:00<?, ?B/s]"
      ]
     },
     "metadata": {},
     "output_type": "display_data"
    },
    {
     "data": {
      "application/vnd.jupyter.widget-view+json": {
       "model_id": "03177006964e4a6fb563a380126ff25b",
       "version_major": 2,
       "version_minor": 0
      },
      "text/plain": [
       "Downloading (…)lve/main/config.json:   0%|          | 0.00/702 [00:00<?, ?B/s]"
      ]
     },
     "metadata": {},
     "output_type": "display_data"
    },
    {
     "data": {
      "application/vnd.jupyter.widget-view+json": {
       "model_id": "2e4c411bb27949a38dbf3f8e9cb03bc7",
       "version_major": 2,
       "version_minor": 0
      },
      "text/plain": [
       "Downloading (…)ve/main/spiece.model:   0%|          | 0.00/4.31M [00:00<?, ?B/s]"
      ]
     },
     "metadata": {},
     "output_type": "display_data"
    },
    {
     "data": {
      "application/vnd.jupyter.widget-view+json": {
       "model_id": "b9aa0e887fea422bae4f10a68cbeef76",
       "version_major": 2,
       "version_minor": 0
      },
      "text/plain": [
       "Downloading (…)cial_tokens_map.json:   0%|          | 0.00/65.0 [00:00<?, ?B/s]"
      ]
     },
     "metadata": {},
     "output_type": "display_data"
    },
    {
     "name": "stderr",
     "output_type": "stream",
     "text": [
      "/Users/nasoungadoy/Code/mbay-translator/py/.venv/lib/python3.11/site-packages/transformers/convert_slow_tokenizer.py:473: UserWarning: The sentencepiece tokenizer that you are converting to a fast tokenizer uses the byte fallback option which is not implemented in the fast tokenizers. In practice this means that the fast version of the tokenizer can produce unknown tokens whereas the sentencepiece version would have converted these unknown tokens into a sequence of byte tokens matching the original piece of text.\n",
      "  warnings.warn(\n"
     ]
    }
   ],
   "source": [
    "test_tokenizer = AutoTokenizer.from_pretrained(\"google/mt5-base\")"
   ]
  },
  {
   "cell_type": "code",
   "execution_count": 49,
   "metadata": {},
   "outputs": [],
   "source": [
    "input_txt = (\n",
    "    f\"Translate French to Mbay: Récemment, les citrons sont très difficiles à trouver.\"\n",
    ")\n",
    "target_txt = \"Ngɔ̀r làā làmíǹ gásɨ̀ ngá̰y.\""
   ]
  },
  {
   "cell_type": "code",
   "execution_count": 50,
   "metadata": {},
   "outputs": [
    {
     "ename": "NameError",
     "evalue": "name 'test_tokenizer' is not defined",
     "output_type": "error",
     "traceback": [
      "\u001b[0;31m---------------------------------------------------------------------------\u001b[0m",
      "\u001b[0;31mNameError\u001b[0m                                 Traceback (most recent call last)",
      "Cell \u001b[0;32mIn[50], line 1\u001b[0m\n\u001b[0;32m----> 1\u001b[0m v \u001b[39m=\u001b[39m test_tokenizer(\n\u001b[1;32m      2\u001b[0m     input_txt,\n\u001b[1;32m      3\u001b[0m     text_target\u001b[39m=\u001b[39mtarget_txt,\n\u001b[1;32m      4\u001b[0m     max_length\u001b[39m=\u001b[39m\u001b[39m512\u001b[39m,\n\u001b[1;32m      5\u001b[0m     truncation\u001b[39m=\u001b[39m\u001b[39mTrue\u001b[39;00m,\n\u001b[1;32m      6\u001b[0m     padding\u001b[39m=\u001b[39m\u001b[39m\"\u001b[39m\u001b[39mmax_length\u001b[39m\u001b[39m\"\u001b[39m,\n\u001b[1;32m      7\u001b[0m )\n\u001b[1;32m     10\u001b[0m \u001b[39mprint\u001b[39m(v)\n",
      "\u001b[0;31mNameError\u001b[0m: name 'test_tokenizer' is not defined"
     ]
    }
   ],
   "source": [
    "v = test_tokenizer(\n",
    "    input_txt,\n",
    "    text_target=target_txt,\n",
    "    max_length=512,\n",
    "    truncation=True,\n",
    "    padding=\"max_length\",\n",
    ")\n",
    "\n",
    "\n",
    "print(v)"
   ]
  },
  {
   "cell_type": "code",
   "execution_count": 26,
   "metadata": {},
   "outputs": [
    {
     "name": "stdout",
     "output_type": "stream",
     "text": [
      "27 18\n"
     ]
    }
   ],
   "source": [
    "print(\n",
    "    sum(1 for i in v[\"input_ids\"] if i != 0),\n",
    "    sum(1 for i in v[\"labels\"] if i != 0),\n",
    ")"
   ]
  },
  {
   "cell_type": "code",
   "execution_count": 27,
   "metadata": {},
   "outputs": [
    {
     "data": {
      "text/plain": [
       "'Ngɔ̀r làā làmíǹ gásɨ̀ ngá̰y.</s><pad><pad><pad><pad><pad><pad><pad><pad><pad><pad><pad><pad><pad><pad><pad><pad><pad><pad><pad><pad><pad><pad><pad><pad><pad><pad><pad><pad><pad><pad><pad><pad><pad><pad><pad><pad><pad><pad><pad><pad><pad><pad><pad><pad><pad><pad><pad><pad><pad><pad><pad><pad><pad><pad><pad><pad><pad><pad><pad><pad><pad><pad><pad><pad><pad><pad><pad><pad><pad><pad><pad><pad><pad><pad><pad><pad><pad><pad><pad><pad><pad><pad><pad><pad><pad><pad><pad><pad><pad><pad><pad><pad><pad><pad><pad><pad><pad><pad><pad><pad><pad><pad><pad><pad><pad><pad><pad><pad><pad><pad><pad><pad><pad><pad><pad><pad><pad><pad><pad><pad><pad><pad><pad><pad><pad><pad><pad><pad><pad><pad><pad><pad><pad><pad><pad><pad><pad><pad><pad><pad><pad><pad><pad><pad><pad><pad><pad><pad><pad><pad><pad><pad><pad><pad><pad><pad><pad><pad><pad><pad><pad><pad><pad><pad><pad><pad><pad><pad><pad><pad><pad><pad><pad><pad><pad><pad><pad><pad><pad><pad><pad><pad><pad><pad><pad><pad><pad><pad><pad><pad><pad><pad><pad><pad><pad><pad><pad><pad><pad><pad><pad><pad><pad><pad><pad><pad><pad><pad><pad><pad><pad><pad><pad><pad><pad><pad><pad><pad><pad><pad><pad><pad><pad><pad><pad><pad><pad><pad><pad><pad><pad><pad><pad><pad><pad><pad><pad><pad><pad><pad><pad><pad><pad><pad><pad><pad><pad><pad><pad><pad><pad><pad><pad><pad><pad><pad><pad><pad><pad><pad><pad><pad><pad><pad><pad><pad><pad><pad><pad><pad><pad><pad><pad><pad><pad><pad><pad><pad><pad><pad><pad><pad><pad><pad><pad><pad><pad><pad><pad><pad><pad><pad><pad><pad><pad><pad><pad><pad><pad><pad><pad><pad><pad><pad><pad><pad><pad><pad><pad><pad><pad><pad><pad><pad><pad><pad><pad><pad><pad><pad><pad><pad><pad><pad><pad><pad><pad><pad><pad><pad><pad><pad><pad><pad><pad><pad><pad><pad><pad><pad><pad><pad><pad><pad><pad><pad><pad><pad><pad><pad><pad><pad><pad><pad><pad><pad><pad><pad><pad><pad><pad><pad><pad><pad><pad><pad><pad><pad><pad><pad><pad><pad><pad><pad><pad><pad><pad><pad><pad><pad><pad><pad><pad><pad><pad><pad><pad><pad><pad><pad><pad><pad><pad><pad><pad><pad><pad><pad><pad><pad><pad><pad><pad><pad><pad><pad><pad><pad><pad><pad><pad><pad><pad><pad><pad><pad><pad><pad><pad><pad><pad><pad><pad><pad><pad><pad><pad><pad><pad><pad><pad><pad><pad><pad><pad><pad><pad><pad><pad><pad><pad><pad><pad><pad><pad><pad><pad><pad><pad><pad><pad><pad><pad><pad><pad><pad><pad><pad><pad><pad><pad><pad><pad><pad><pad><pad><pad><pad><pad><pad><pad><pad><pad><pad><pad><pad><pad><pad><pad><pad><pad><pad><pad><pad><pad><pad><pad><pad><pad><pad><pad><pad><pad><pad>'"
      ]
     },
     "execution_count": 27,
     "metadata": {},
     "output_type": "execute_result"
    }
   ],
   "source": [
    "test_tokenizer.decode(v[\"labels\"])"
   ]
  },
  {
   "cell_type": "code",
   "execution_count": 51,
   "metadata": {},
   "outputs": [
    {
     "data": {
      "application/vnd.jupyter.widget-view+json": {
       "model_id": "4a69f481043e4cd491e6c7ee0bc3da02",
       "version_major": 2,
       "version_minor": 0
      },
      "text/plain": [
       "Map:   0%|          | 0/8580 [00:00<?, ? examples/s]"
      ]
     },
     "metadata": {},
     "output_type": "display_data"
    },
    {
     "data": {
      "application/vnd.jupyter.widget-view+json": {
       "model_id": "52c92b787a284656abbcd58e0e29de13",
       "version_major": 2,
       "version_minor": 0
      },
      "text/plain": [
       "Map:   0%|          | 0/1073 [00:00<?, ? examples/s]"
      ]
     },
     "metadata": {},
     "output_type": "display_data"
    },
    {
     "data": {
      "application/vnd.jupyter.widget-view+json": {
       "model_id": "f4db802c719a4100b3933273a8ba3e6e",
       "version_major": 2,
       "version_minor": 0
      },
      "text/plain": [
       "Map:   0%|          | 0/1073 [00:00<?, ? examples/s]"
      ]
     },
     "metadata": {},
     "output_type": "display_data"
    }
   ],
   "source": [
    "from functools import partial\n",
    "\n",
    "final_dst = train_test_valid_dst.map(\n",
    "    partial(preprocess_records, t5_tokenizer),\n",
    "    batched=True,\n",
    "    remove_columns=train_test_valid_dst[\"train\"].column_names,\n",
    ")"
   ]
  },
  {
   "cell_type": "code",
   "execution_count": 52,
   "metadata": {},
   "outputs": [
    {
     "data": {
      "application/vnd.jupyter.widget-view+json": {
       "model_id": "7d6974f2de7843c191ecb9c2326e99df",
       "version_major": 2,
       "version_minor": 0
      },
      "text/plain": [
       "Saving the dataset (0/1 shards):   0%|          | 0/34320 [00:00<?, ? examples/s]"
      ]
     },
     "metadata": {},
     "output_type": "display_data"
    },
    {
     "data": {
      "application/vnd.jupyter.widget-view+json": {
       "model_id": "4606950bbadd44e8940a26c18d82e686",
       "version_major": 2,
       "version_minor": 0
      },
      "text/plain": [
       "Saving the dataset (0/1 shards):   0%|          | 0/4292 [00:00<?, ? examples/s]"
      ]
     },
     "metadata": {},
     "output_type": "display_data"
    },
    {
     "data": {
      "application/vnd.jupyter.widget-view+json": {
       "model_id": "4556d28154df4333bb89ff60b2d3028a",
       "version_major": 2,
       "version_minor": 0
      },
      "text/plain": [
       "Saving the dataset (0/1 shards):   0%|          | 0/4292 [00:00<?, ? examples/s]"
      ]
     },
     "metadata": {},
     "output_type": "display_data"
    }
   ],
   "source": [
    "final_dst.save_to_disk(TOKENIZED_DATASET_PATH)"
   ]
  },
  {
   "cell_type": "code",
   "execution_count": null,
   "metadata": {},
   "outputs": [],
   "source": []
  }
 ],
 "metadata": {
  "kernelspec": {
   "display_name": ".venv",
   "language": "python",
   "name": "python3"
  },
  "language_info": {
   "codemirror_mode": {
    "name": "ipython",
    "version": 3
   },
   "file_extension": ".py",
   "mimetype": "text/x-python",
   "name": "python",
   "nbconvert_exporter": "python",
   "pygments_lexer": "ipython3",
   "version": "3.11.4"
  },
  "orig_nbformat": 4
 },
 "nbformat": 4,
 "nbformat_minor": 2
}
